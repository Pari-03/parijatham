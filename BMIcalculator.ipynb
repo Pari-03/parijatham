{
 "cells": [
  {
   "cell_type": "markdown",
   "metadata": {},
   "source": [
    "BMI Categories:\n",
    "\n",
    "      Underweight=<18.5\n",
    "      Normal Weight=18.5-24.9\n",
    "      OverWeight=25-29.9\n",
    "      Obesity=BMI of 30 or greater\n",
    "\n",
    "\\#function for calculate BMI def calculator_bmi(kg,m): print(“Enter your\n",
    "weight”,kg) \\#Get the weight from user  \n",
    "print(“Enter your height in meters ”,m) \\#Get the height from user\n",
    "bmi=kg/(m\\*m) \\#Formul for Calculate BMI bmi=round(bmi,1) \\#Round off\n",
    "the result then it easy to read print(“Calucated value of BMI is”,bmi)\n",
    "if bmi\\<18.5: \\#if-elif condition for compare the BMI values with given\n",
    "Categories print(\" Need to increse your weight, Underweight“)\n",
    "elif(bmi\\>18.5) and (bmi\\<24.9): print(” Congrats you are, Normal\n",
    "weight“) elif(bmi\\>25) and (bmi\\<29.9): print(” Sorry! your,Over\n",
    "weight“) elif(bmi\\>30): print(”Immediately need reduce weight atleast\n",
    "for your health,Obesity“) else: print(”Something went wrong try again\")\n",
    "calculator_bmi(34,1.3) Enter your weight 34 Enter your height in meters\n",
    "1.3 Calucated value of BMI is 20.1 Congrats you are, Normal weight\n",
    "calculator_bmi(34,1.4) Enter your weight 34 Enter your height in meters\n",
    "1.4 Calucated value of BMI is 17.3 Need to increse your weight,\n",
    "Underweight calculator_bmi(50,1.3) Enter your weight 50 Enter your\n",
    "height in meters 1.3 Calucated value of BMI is 29.6 Sorry! your,Over\n",
    "weight calculator_bmi(180,2.4) Enter your weight 180 Enter your height\n",
    "in meters 2.4 Calucated value of BMI is 31.2 Immediately need reduce\n",
    "weight atleast for your health,Obesity calculator_bmi(780,6.5) Enter\n",
    "your weight 780 Enter your height in meters 6.5 Calucated value of BMI\n",
    "is 18.5 Something went wrong try again ​"
   ]
  }
 ],
 "nbformat": 4,
 "nbformat_minor": 5,
 "metadata": {}
}
